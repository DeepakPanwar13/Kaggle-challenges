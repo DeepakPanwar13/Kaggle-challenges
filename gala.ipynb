{
  "nbformat": 4,
  "nbformat_minor": 0,
  "metadata": {
    "colab": {
      "name": "gala.ipynb",
      "provenance": [],
      "collapsed_sections": [],
      "toc_visible": true
    },
    "kernelspec": {
      "name": "python3",
      "display_name": "Python 3"
    }
  },
  "cells": [
    {
      "cell_type": "code",
      "metadata": {
        "id": "IMIjzclX6Lst",
        "colab_type": "code",
        "colab": {}
      },
      "source": [
        "import os\n",
        "import numpy as np\n",
        "import pandas as pd\n",
        "import cv2\n",
        "from zipfile import ZipFile \n",
        "\n",
        "# file_name = '//9d34462453e311ea.zip'\n",
        "\n",
        "# with ZipFile(file_name, 'r') as zip:\n",
        "#   zip.extractall()  "
      ],
      "execution_count": 0,
      "outputs": []
    },
    {
      "cell_type": "code",
      "metadata": {
        "id": "Ep7vq3d07JO1",
        "colab_type": "code",
        "outputId": "5fb2aaa7-36e4-4c98-d973-efde408bc416",
        "colab": {
          "base_uri": "https://localhost:8080/",
          "height": 195
        }
      },
      "source": [
        " path = '/content/dataset'\n",
        "\n",
        " train_df = pd.read_csv(path+'/train.csv')\n",
        " test_df = pd.read_csv(path+'/test.csv')\n",
        "\n",
        " train_df.head()"
      ],
      "execution_count": 34,
      "outputs": [
        {
          "output_type": "execute_result",
          "data": {
            "text/html": [
              "<div>\n",
              "<style scoped>\n",
              "    .dataframe tbody tr th:only-of-type {\n",
              "        vertical-align: middle;\n",
              "    }\n",
              "\n",
              "    .dataframe tbody tr th {\n",
              "        vertical-align: top;\n",
              "    }\n",
              "\n",
              "    .dataframe thead th {\n",
              "        text-align: right;\n",
              "    }\n",
              "</style>\n",
              "<table border=\"1\" class=\"dataframe\">\n",
              "  <thead>\n",
              "    <tr style=\"text-align: right;\">\n",
              "      <th></th>\n",
              "      <th>Image</th>\n",
              "      <th>Class</th>\n",
              "    </tr>\n",
              "  </thead>\n",
              "  <tbody>\n",
              "    <tr>\n",
              "      <th>0</th>\n",
              "      <td>image7042.jpg</td>\n",
              "      <td>Food</td>\n",
              "    </tr>\n",
              "    <tr>\n",
              "      <th>1</th>\n",
              "      <td>image3327.jpg</td>\n",
              "      <td>misc</td>\n",
              "    </tr>\n",
              "    <tr>\n",
              "      <th>2</th>\n",
              "      <td>image10335.jpg</td>\n",
              "      <td>Attire</td>\n",
              "    </tr>\n",
              "    <tr>\n",
              "      <th>3</th>\n",
              "      <td>image8019.jpg</td>\n",
              "      <td>Food</td>\n",
              "    </tr>\n",
              "    <tr>\n",
              "      <th>4</th>\n",
              "      <td>image2128.jpg</td>\n",
              "      <td>Attire</td>\n",
              "    </tr>\n",
              "  </tbody>\n",
              "</table>\n",
              "</div>"
            ],
            "text/plain": [
              "            Image   Class\n",
              "0   image7042.jpg    Food\n",
              "1   image3327.jpg    misc\n",
              "2  image10335.jpg  Attire\n",
              "3   image8019.jpg    Food\n",
              "4   image2128.jpg  Attire"
            ]
          },
          "metadata": {
            "tags": []
          },
          "execution_count": 34
        }
      ]
    },
    {
      "cell_type": "code",
      "metadata": {
        "id": "ft7pVMfA8u1Q",
        "colab_type": "code",
        "outputId": "1380d1b9-1a64-410f-fb0a-8ee75edb3111",
        "colab": {
          "base_uri": "https://localhost:8080/",
          "height": 195
        }
      },
      "source": [
        "class_map = {\n",
        "    'Food': 0,\n",
        "    'Attire': 1,\n",
        "    'Decorationandsignage': 2,\n",
        "    'misc': 3\n",
        "}\n",
        "\n",
        "inverse_class_map = {\n",
        "    0: 'Food',\n",
        "    1: 'Attire',\n",
        "    2: 'Decorationandsignage',\n",
        "    3: 'misc'\n",
        "}\n",
        "\n",
        "train_df['Class'] = train_df['Class'].map(class_map).astype(np.uint8)\n",
        "train_df.head()"
      ],
      "execution_count": 35,
      "outputs": [
        {
          "output_type": "execute_result",
          "data": {
            "text/html": [
              "<div>\n",
              "<style scoped>\n",
              "    .dataframe tbody tr th:only-of-type {\n",
              "        vertical-align: middle;\n",
              "    }\n",
              "\n",
              "    .dataframe tbody tr th {\n",
              "        vertical-align: top;\n",
              "    }\n",
              "\n",
              "    .dataframe thead th {\n",
              "        text-align: right;\n",
              "    }\n",
              "</style>\n",
              "<table border=\"1\" class=\"dataframe\">\n",
              "  <thead>\n",
              "    <tr style=\"text-align: right;\">\n",
              "      <th></th>\n",
              "      <th>Image</th>\n",
              "      <th>Class</th>\n",
              "    </tr>\n",
              "  </thead>\n",
              "  <tbody>\n",
              "    <tr>\n",
              "      <th>0</th>\n",
              "      <td>image7042.jpg</td>\n",
              "      <td>0</td>\n",
              "    </tr>\n",
              "    <tr>\n",
              "      <th>1</th>\n",
              "      <td>image3327.jpg</td>\n",
              "      <td>3</td>\n",
              "    </tr>\n",
              "    <tr>\n",
              "      <th>2</th>\n",
              "      <td>image10335.jpg</td>\n",
              "      <td>1</td>\n",
              "    </tr>\n",
              "    <tr>\n",
              "      <th>3</th>\n",
              "      <td>image8019.jpg</td>\n",
              "      <td>0</td>\n",
              "    </tr>\n",
              "    <tr>\n",
              "      <th>4</th>\n",
              "      <td>image2128.jpg</td>\n",
              "      <td>1</td>\n",
              "    </tr>\n",
              "  </tbody>\n",
              "</table>\n",
              "</div>"
            ],
            "text/plain": [
              "            Image  Class\n",
              "0   image7042.jpg      0\n",
              "1   image3327.jpg      3\n",
              "2  image10335.jpg      1\n",
              "3   image8019.jpg      0\n",
              "4   image2128.jpg      1"
            ]
          },
          "metadata": {
            "tags": []
          },
          "execution_count": 35
        }
      ]
    },
    {
      "cell_type": "code",
      "metadata": {
        "id": "tL7zNs3N8vGg",
        "colab_type": "code",
        "colab": {}
      },
      "source": [
        "train_path = '/content/dataset/Train Images/'\n",
        "test_path = '/content/dataset/Test Images/'\n",
        "\n",
        "train_images, train_labels = [], []\n",
        "\n",
        "for i in range(len(train_df.Image)):\n",
        "  train_image = cv2.imread(train_path + str(train_df.Image[i]))\n",
        "  train_image = cv2.resize(train_image, (224, 224))\n",
        "  train_images.append(train_image)\n",
        "  train_labels.append(train_df.Class[i])\n",
        "\n",
        "test_images = []\n",
        "\n",
        "for i in range(len(test_df.Image)):\n",
        "  test_image = cv2.imread(test_path + str(test_df.Image[i]))\n",
        "  test_image = cv2.resize(test_image, (224, 224))\n",
        "  test_images.append(test_image)\n",
        "\n",
        "train_images = np.array(train_images)\n",
        "test_images = np.array(test_images)"
      ],
      "execution_count": 0,
      "outputs": []
    },
    {
      "cell_type": "code",
      "metadata": {
        "id": "EMsy1NkI8vTx",
        "colab_type": "code",
        "colab": {}
      },
      "source": [
        "from sklearn.model_selection import train_test_split\n",
        "\n",
        "X_train, X_test, y_train, y_test = train_test_split(train_images, to_categorical(train_labels), test_size=0.2, random_state=42)"
      ],
      "execution_count": 0,
      "outputs": []
    },
    {
      "cell_type": "code",
      "metadata": {
        "id": "A0AsKWbMQLB2",
        "colab_type": "code",
        "colab": {}
      },
      "source": [
        "from keras.applications.resnet50 import ResNet50\n",
        "from keras.models import Sequential\n",
        "from keras.callbacks import EarlyStopping\n",
        "from keras.layers import Dense\n",
        "from keras.utils import to_categorical\n",
        "from keras.preprocessing.image import ImageDataGenerator"
      ],
      "execution_count": 0,
      "outputs": []
    },
    {
      "cell_type": "code",
      "metadata": {
        "id": "52ck6mU4AdwM",
        "colab_type": "code",
        "colab": {}
      },
      "source": [
        "base_model = ResNet50(\n",
        "    weights='imagenet',\n",
        "    include_top=False, \n",
        "    input_shape=(224, 224, 3), \n",
        "    pooling='avg'\n",
        ")\n",
        "# base_model.summary()"
      ],
      "execution_count": 0,
      "outputs": []
    },
    {
      "cell_type": "code",
      "metadata": {
        "id": "jYMM8rASFzQ3",
        "colab_type": "code",
        "outputId": "d67821c2-9281-40a0-c316-c84f1c6a1657",
        "colab": {
          "base_uri": "https://localhost:8080/",
          "height": 218
        }
      },
      "source": [
        "base_model.trainable = False\n",
        "\n",
        "model = Sequential([\n",
        "  base_model,\n",
        "  Dense(4, activation='softmax'),\n",
        "])\n",
        "\n",
        "model.compile(loss='categorical_crossentropy', optimizer='adam', metrics=['accuracy'])\n",
        "model.summary()"
      ],
      "execution_count": 40,
      "outputs": [
        {
          "output_type": "stream",
          "text": [
            "Model: \"sequential_6\"\n",
            "_________________________________________________________________\n",
            "Layer (type)                 Output Shape              Param #   \n",
            "=================================================================\n",
            "resnet50 (Model)             (None, 2048)              23587712  \n",
            "_________________________________________________________________\n",
            "dense_4 (Dense)              (None, 4)                 8196      \n",
            "=================================================================\n",
            "Total params: 23,595,908\n",
            "Trainable params: 8,196\n",
            "Non-trainable params: 23,587,712\n",
            "_________________________________________________________________\n"
          ],
          "name": "stdout"
        }
      ]
    },
    {
      "cell_type": "code",
      "metadata": {
        "id": "CZMLmtFyDUdb",
        "colab_type": "code",
        "colab": {
          "base_uri": "https://localhost:8080/",
          "height": 151
        },
        "outputId": "264f9b19-15ad-4a7e-e1a3-2092ef47fe88"
      },
      "source": [
        "model.fit(X_train, y_train, epochs=5, batch_size=32, validation_data=(X_test, y_test), callbacks=[EarlyStopping(min_delta=0.01)])"
      ],
      "execution_count": 42,
      "outputs": [
        {
          "output_type": "stream",
          "text": [
            "Train on 4786 samples, validate on 1197 samples\n",
            "Epoch 1/5\n",
            "4786/4786 [==============================] - 1509s 315ms/step - loss: 0.6887 - acc: 0.7457 - val_loss: 0.7546 - val_acc: 0.7210\n",
            "Epoch 2/5\n",
            "4786/4786 [==============================] - 1515s 317ms/step - loss: 0.5599 - acc: 0.7963 - val_loss: 0.7319 - val_acc: 0.7444\n",
            "Epoch 3/5\n",
            "4786/4786 [==============================] - 1505s 314ms/step - loss: 0.4997 - acc: 0.8180 - val_loss: 0.7711 - val_acc: 0.7285\n"
          ],
          "name": "stdout"
        },
        {
          "output_type": "execute_result",
          "data": {
            "text/plain": [
              "<keras.callbacks.History at 0x7efbddc20f98>"
            ]
          },
          "metadata": {
            "tags": []
          },
          "execution_count": 42
        }
      ]
    },
    {
      "cell_type": "code",
      "metadata": {
        "id": "vsbw8zL2DU68",
        "colab_type": "code",
        "outputId": "d73e8d40-b424-4f11-dcdd-d336ad0c15a1",
        "colab": {
          "base_uri": "https://localhost:8080/",
          "height": 84
        }
      },
      "source": [
        "labels = model.predict(test_images)\n",
        "print(labels[:4])"
      ],
      "execution_count": 43,
      "outputs": [
        {
          "output_type": "stream",
          "text": [
            "[[1.6480432e-01 6.2477797e-01 4.5917789e-04 2.0995848e-01]\n",
            " [7.8995579e-01 1.7900714e-01 9.7828612e-05 3.0939169e-02]\n",
            " [8.3705401e-01 1.0040668e-02 1.2289748e-03 1.5167642e-01]\n",
            " [9.9659699e-01 2.7689716e-04 3.8049639e-05 3.0880684e-03]]\n"
          ],
          "name": "stdout"
        }
      ]
    },
    {
      "cell_type": "code",
      "metadata": {
        "id": "6s-qnWyZZ8Ll",
        "colab_type": "code",
        "colab": {
          "base_uri": "https://localhost:8080/",
          "height": 34
        },
        "outputId": "0084569b-9151-468b-fa32-412581b2ad3a"
      },
      "source": [
        "label = [np.argmax(i) for i in labels]\n",
        "print(label[:20])"
      ],
      "execution_count": 44,
      "outputs": [
        {
          "output_type": "stream",
          "text": [
            "[1, 0, 0, 0, 1, 3, 3, 1, 3, 1, 2, 2, 2, 1, 1, 1, 1, 3, 3, 1]\n"
          ],
          "name": "stdout"
        }
      ]
    },
    {
      "cell_type": "code",
      "metadata": {
        "id": "NviDsMKbDSoF",
        "colab_type": "code",
        "outputId": "d6c8747d-f1a9-4046-ea58-7d00da0941d0",
        "colab": {
          "base_uri": "https://localhost:8080/",
          "height": 34
        }
      },
      "source": [
        "class_label = [inverse_class_map[x] for x in label]\n",
        "print(class_label[:3])"
      ],
      "execution_count": 45,
      "outputs": [
        {
          "output_type": "stream",
          "text": [
            "['Attire', 'Food', 'Food']\n"
          ],
          "name": "stdout"
        }
      ]
    },
    {
      "cell_type": "code",
      "metadata": {
        "id": "-IbfyhuxDVEO",
        "colab_type": "code",
        "outputId": "19e39a27-609d-403e-8687-3205f8d438d8",
        "colab": {
          "base_uri": "https://localhost:8080/",
          "height": 195
        }
      },
      "source": [
        "submission = pd.DataFrame({ 'Image': test_df.Image, 'Class': class_label })\n",
        "submission.head()"
      ],
      "execution_count": 46,
      "outputs": [
        {
          "output_type": "execute_result",
          "data": {
            "text/html": [
              "<div>\n",
              "<style scoped>\n",
              "    .dataframe tbody tr th:only-of-type {\n",
              "        vertical-align: middle;\n",
              "    }\n",
              "\n",
              "    .dataframe tbody tr th {\n",
              "        vertical-align: top;\n",
              "    }\n",
              "\n",
              "    .dataframe thead th {\n",
              "        text-align: right;\n",
              "    }\n",
              "</style>\n",
              "<table border=\"1\" class=\"dataframe\">\n",
              "  <thead>\n",
              "    <tr style=\"text-align: right;\">\n",
              "      <th></th>\n",
              "      <th>Image</th>\n",
              "      <th>Class</th>\n",
              "    </tr>\n",
              "  </thead>\n",
              "  <tbody>\n",
              "    <tr>\n",
              "      <th>0</th>\n",
              "      <td>image6245.jpg</td>\n",
              "      <td>Attire</td>\n",
              "    </tr>\n",
              "    <tr>\n",
              "      <th>1</th>\n",
              "      <td>image10409.jpg</td>\n",
              "      <td>Food</td>\n",
              "    </tr>\n",
              "    <tr>\n",
              "      <th>2</th>\n",
              "      <td>image8692.jpg</td>\n",
              "      <td>Food</td>\n",
              "    </tr>\n",
              "    <tr>\n",
              "      <th>3</th>\n",
              "      <td>image10517.jpg</td>\n",
              "      <td>Food</td>\n",
              "    </tr>\n",
              "    <tr>\n",
              "      <th>4</th>\n",
              "      <td>image2580.jpg</td>\n",
              "      <td>Attire</td>\n",
              "    </tr>\n",
              "  </tbody>\n",
              "</table>\n",
              "</div>"
            ],
            "text/plain": [
              "            Image   Class\n",
              "0   image6245.jpg  Attire\n",
              "1  image10409.jpg    Food\n",
              "2   image8692.jpg    Food\n",
              "3  image10517.jpg    Food\n",
              "4   image2580.jpg  Attire"
            ]
          },
          "metadata": {
            "tags": []
          },
          "execution_count": 46
        }
      ]
    },
    {
      "cell_type": "code",
      "metadata": {
        "id": "JxfeMa9-8HHE",
        "colab_type": "code",
        "colab": {}
      },
      "source": [
        "submission.to_csv('sub.csv', index=False)"
      ],
      "execution_count": 0,
      "outputs": []
    }
  ]
}